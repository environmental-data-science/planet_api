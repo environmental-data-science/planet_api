{
  "nbformat": 4,
  "nbformat_minor": 0,
  "metadata": {
    "colab": {
      "name": "planet_api_data",
      "provenance": [],
      "collapsed_sections": []
    },
    "kernelspec": {
      "display_name": "Python 3",
      "name": "python3"
    },
    "language_info": {
      "name": "python"
    }
  },
  "cells": [
    {
      "cell_type": "markdown",
      "metadata": {
        "id": "iGo5THNWM3id"
      },
      "source": [
        "##Importing libraries and packages"
      ]
    },
    {
      "cell_type": "code",
      "metadata": {
        "id": "0xPMwXL1-vJC"
      },
      "source": [
        "!pip install rasterio\n",
        "!pip install geotiff\n",
        "!pip install imagecodecs-lite\n",
        "!pip install imagecodecs"
      ],
      "execution_count": null,
      "outputs": []
    },
    {
      "cell_type": "code",
      "metadata": {
        "id": "H5WGsxCN4gGG"
      },
      "source": [
        "import os\n",
        "import json\n",
        "import math\n",
        "import time\n",
        "import urllib.request\n",
        "\n",
        "import requests\n",
        "from requests.auth import HTTPBasicAuth\n",
        "import rasterio\n",
        "from rasterio.plot import show\n",
        "import matplotlib.pyplot as plt\n",
        "import numpy as np\n",
        "import imageio\n",
        "from osgeo import gdal\n",
        "import skimage\n",
        "import skimage.io as skio\n",
        "from PIL import Image as pilimg\n",
        "from skimage import exposure"
      ],
      "execution_count": 96,
      "outputs": []
    },
    {
      "cell_type": "markdown",
      "metadata": {
        "id": "l8gTIRCMNKkP"
      },
      "source": [
        "# Image Preparation"
      ]
    },
    {
      "cell_type": "code",
      "source": [
        "# Input your key as a string here\n",
        "PLANET_API_KEY = ''"
      ],
      "metadata": {
        "id": "LF9VI-ab5Gz3"
      },
      "execution_count": 123,
      "outputs": []
    },
    {
      "cell_type": "code",
      "source": [
        "def create_filter(coords, i = 0, j = 0):\n",
        "    \"\"\"\n",
        "    TODO?: Modify filters\n",
        "    \"\"\"\n",
        "    low_latitude = coords[0]\n",
        "    high_latitude = coords[1]\n",
        "    low_longitude = coords[2]\n",
        "    high_longitude = coords[3]\n",
        "\n",
        "    low_latitude += 0.06 * i\n",
        "    high_latitude += 0.06 * i\n",
        "    low_longitude += 0.06 * j\n",
        "    high_longitude += 0.06 * j\n",
        "    geojson_geometry = {\n",
        "        \"type\": \"Polygon\",\n",
        "        \"coordinates\": [\n",
        "        [ \n",
        "            [low_latitude, low_longitude],\n",
        "            [high_latitude, low_longitude],\n",
        "            [high_latitude, high_longitude],\n",
        "            [low_latitude, high_longitude],\n",
        "            [low_latitude, low_longitude]\n",
        "        ]\n",
        "        ]\n",
        "    }\n",
        "    # get images that overlap with our AOI \n",
        "    geometry_filter = {\n",
        "    \"type\": \"GeometryFilter\",\n",
        "    \"field_name\": \"geometry\",\n",
        "    \"config\": geojson_geometry\n",
        "    }\n",
        "\n",
        "    # get images acquired within a date range\n",
        "    date_range_filter = {\n",
        "    \"type\": \"DateRangeFilter\",\n",
        "    \"field_name\": \"acquired\",\n",
        "    \"config\": {\n",
        "        \"gte\": start_time,\n",
        "        \"lte\": end_time\n",
        "    }\n",
        "    }\n",
        "\n",
        "    # only get images which have <50% cloud coverage\n",
        "    cloud_cover_filter = {\n",
        "    \"type\": \"RangeFilter\",\n",
        "    \"field_name\": \"cloud_cover\",\n",
        "    \"config\": {\n",
        "        \"lte\": 0.5\n",
        "    }\n",
        "    }\n",
        "\n",
        "    # combine our geo, date, cloud filters\n",
        "    combined_filter = {\n",
        "    \"type\": \"AndFilter\",\n",
        "    \"config\": [geometry_filter, date_range_filter, cloud_cover_filter]\n",
        "    }\n",
        "    return combined_filter"
      ],
      "metadata": {
        "id": "HIbxAVZe7eCS"
      },
      "execution_count": 98,
      "outputs": []
    },
    {
      "cell_type": "code",
      "metadata": {
        "id": "nr-KNgAUv7sJ"
      },
      "source": [
        "images_already_fetched = []\n",
        "def create_url(combined_filter, latitude, longitude):\n",
        "    \"\"\"\n",
        "    TODO: Grab more than the first image ID\n",
        "    TODO?: Check folder if image exists\n",
        "    \"\"\"\n",
        "\n",
        "    item_type = \"PSScene4Band\"\n",
        "\n",
        "    # API request object\n",
        "    search_request = {\n",
        "    \"item_types\": [item_type], \n",
        "    \"filter\": combined_filter\n",
        "    }\n",
        "\n",
        "    # fire off the POST request\n",
        "    search_result = \\\n",
        "    requests.post(\n",
        "        'https://api.planet.com/data/v1/quick-search',\n",
        "        auth=HTTPBasicAuth(PLANET_API_KEY, ''),\n",
        "        json=search_request)\n",
        "\n",
        "    # print(json.dumps(search_result.json(), indent=1))\n",
        "        \n",
        "    image_ids = [feature['id'] for feature in search_result.json()['features']]\n",
        "    print(\"Image IDs: \", image_ids)\n",
        "\n",
        "    if not image_ids:\n",
        "        print(\"No images found for Lat:\", latitude, \" Long:\", longitude)\n",
        "        return None\n",
        "\n",
        "    # For our purposes, just grab the first image ID\n",
        "    id0 = image_ids[0]\n",
        "\n",
        "    # The same image id is returned for several different queries. If the image id\n",
        "    # is already seen before then skip processing it further.\n",
        "    if id0 in images_already_fetched:\n",
        "        print(\"Skipping:\" + id0 + \" because already processed earlier\")\n",
        "        return None\n",
        "    else:\n",
        "        images_already_fetched.append(id0)\n",
        "        id0_url = 'https://api.planet.com/data/v1/item-types/{}/items/{}/assets'.format(item_type, id0)\n",
        "    return id0_url\n",
        "\n"
      ],
      "execution_count": 121,
      "outputs": []
    },
    {
      "cell_type": "code",
      "metadata": {
        "id": "ipRpgRQZOh6d"
      },
      "source": [
        "def download_image(url):\n",
        "    \"\"\"\n",
        "    TODO: Come up with a filename convention for these pictures (i.e by image ID)\n",
        "    \"\"\"\n",
        "    # Returns JSON metadata for assets in this ID. Learn more: planet.com/docs/reference/data-api/items-assets/#asset\n",
        "    result = \\\n",
        "      requests.get(\n",
        "        url,\n",
        "        auth=HTTPBasicAuth(PLANET_API_KEY, '')\n",
        "      )\n",
        "\n",
        "    # List of asset types available for this particular satellite image\n",
        "    print(result.json().keys())   \n",
        "\n",
        "    # This is \"inactive\" if the \"analytic\" asset has not yet been activated; otherwise 'active'\n",
        "    print(result.json()['analytic']['status'])\n",
        "\n",
        "    # Parse out useful links\n",
        "    links = result.json()[u\"analytic_sr\"][\"_links\"]\n",
        "    self_link = links[\"_self\"]\n",
        "    activation_link = links[\"activate\"]\n",
        "\n",
        "    # Request activation of the 'analytic' asset:\n",
        "    activate_result = \\\n",
        "      requests.get(\n",
        "        activation_link,\n",
        "        auth=HTTPBasicAuth(PLANET_API_KEY, '')\n",
        "      )\n",
        "\n",
        "    activation_status_result = \\\n",
        "      requests.get(\n",
        "        self_link,\n",
        "        auth=HTTPBasicAuth(PLANET_API_KEY, '')\n",
        "      )\n",
        "        \n",
        "    print(activation_status_result.json()[\"status\"])\n",
        "\n",
        "    while(activation_status_result.json()[\"status\"] != 'active'):\n",
        "      time.sleep(60)\n",
        "      activation_status_result = \\\n",
        "      requests.get(\n",
        "        self_link,\n",
        "        auth=HTTPBasicAuth(PLANET_API_KEY, '')\n",
        "      )\n",
        "      print(activation_status_result.json()[\"status\"])\n",
        "\n",
        "\n",
        "\n",
        "    # Image can be downloaded by making a GET with your Planet API key, from here:\n",
        "    download_link = activation_status_result.json()[\"location\"]\n",
        "    print(download_link)\n",
        "\n",
        "    image_file = download_link\n",
        "\n",
        "    urllib.request.urlretrieve(image_file, filename=\"test.tif\")"
      ],
      "execution_count": 110,
      "outputs": []
    },
    {
      "cell_type": "code",
      "source": [
        "def tif_to_jpg(filename):\n",
        "    # Convert the image from tif to jpeg\n",
        "    image = skio.imread('test.tif')\n",
        "    clamp_low = np.quantile(image, .0005)\n",
        "    clamp_high = np.quantile(image, .9905)\n",
        "    image = exposure.rescale_intensity(image, in_range=(clamp_low, clamp_high))\n",
        "\n",
        "    clipped = skimage.img_as_ubyte(image) #converts an image to an unsigned byte format, with values between [0,255] \n",
        "    # print(clipped[clipped>0]) #returns indexes of clipped with the value that satisfies clipped>0 condition\n",
        "    b = clipped[:,:, 0]\n",
        "    g = clipped[:,:, 1]\n",
        "    r = clipped[:,:, 2]\n",
        "    n = clipped[:,:, 3]\n",
        "    rgb = np.stack([r, g, b])\n",
        "    rgb = np.moveaxis(rgb, 0, -1)\n",
        "    plt.figure(figsize=(25, 13))\n",
        "    skio.imsave(filename, rgb) #saves clipped from a geotif to a tif\n",
        "    skio.imshow(filename) #displaying the file\n"
      ],
      "metadata": {
        "id": "W0BWsCcezAtc"
      },
      "execution_count": 111,
      "outputs": []
    },
    {
      "cell_type": "code",
      "source": [
        "import rasterio\n",
        "import numpy as np\n",
        "import imageio\n",
        "def tif_to_jpg2(filename):\n",
        "    \"\"\"\n",
        "    Currently doesn't work\n",
        "    \"\"\"\n",
        "    image_file = \"test.tif\"  # Change to whatever the planet image is that we download!\n",
        "\n",
        "    sat_data = rasterio.open(image_file)\n",
        "\n",
        "    # (integer unsigned 16-bit, if planet.com is right)\n",
        "    b, g, r, n = sat_data.read()\n",
        "\n",
        "    # Approach that uses numpy to make an array and then imageio to write an image:\n",
        "    image_array = np.array([r, g, b]).astype(np.uint8).T # Forces to uint8...\n",
        "    imageio.imwrite(filename, image_array)"
      ],
      "metadata": {
        "id": "_PilSNjMFS22"
      },
      "execution_count": 112,
      "outputs": []
    },
    {
      "cell_type": "code",
      "source": [
        "def get_coords(aoi):\n",
        "    coords = aoi['features'][0]['geometry']['coordinates'][0]\n",
        "    low_latitude = coords[0][0]\n",
        "    high_latitude = coords[1][0]\n",
        "    low_longitude = coords[0][1]\n",
        "    high_longitude = coords[2][1]\n",
        "    return (low_latitude, high_latitude, low_longitude, high_longitude)"
      ],
      "metadata": {
        "id": "A9GpYQMO5SAw"
      },
      "execution_count": 113,
      "outputs": []
    },
    {
      "cell_type": "markdown",
      "source": [
        "# Query Parameters"
      ],
      "metadata": {
        "id": "g5D_uGIO5Sjo"
      }
    },
    {
      "cell_type": "markdown",
      "source": [
        "Add AOI JSON as a dictionary below:"
      ],
      "metadata": {
        "id": "PHmKxtv1zLKc"
      }
    },
    {
      "cell_type": "code",
      "source": [
        "mazabuka_aoi = {\n",
        "  \"type\": \"FeatureCollection\",\n",
        "  \"features\": [\n",
        "    {\n",
        "      \"type\": \"Feature\",\n",
        "      \"properties\": {},\n",
        "      \"geometry\": {\n",
        "        \"type\": \"Polygon\",\n",
        "        \"coordinates\": [\n",
        "          [\n",
        "            [\n",
        "              27.58255004882812,\n",
        "              -16.22786079204794\n",
        "            ],\n",
        "            [\n",
        "              28.208770751953125,\n",
        "              -16.22786079204794\n",
        "            ],\n",
        "            [\n",
        "              28.208770751953125,\n",
        "              -15.634939470864143\n",
        "            ],\n",
        "            [\n",
        "              27.58255004882812,\n",
        "              -15.634939470864143\n",
        "            ],\n",
        "            [\n",
        "              27.58255004882812,\n",
        "              -16.22786079204794\n",
        "            ]\n",
        "          ]\n",
        "        ]\n",
        "      }\n",
        "    }\n",
        "  ]\n",
        "}"
      ],
      "metadata": {
        "id": "4Krf04aF3Cvp"
      },
      "execution_count": 114,
      "outputs": []
    },
    {
      "cell_type": "code",
      "source": [
        "mazabuka_coords = get_coords(mazabuka_aoi)"
      ],
      "metadata": {
        "id": "J1v9S_5LAkMd"
      },
      "execution_count": 115,
      "outputs": []
    },
    {
      "cell_type": "markdown",
      "source": [
        "Select time frame:"
      ],
      "metadata": {
        "id": "Gn1Fl0zOzU45"
      }
    },
    {
      "cell_type": "code",
      "source": [
        "# Start and end time stamp in ISO8601 format\n",
        "start_time = \"2020-08-15T00:00:00.000Z\"\n",
        "end_time = \"2020-08-16T00:00:00.000Z\""
      ],
      "metadata": {
        "id": "Z2astSrhzTBu"
      },
      "execution_count": 116,
      "outputs": []
    },
    {
      "cell_type": "code",
      "source": [
        "def prepare_images(coords, start_time, end_time, i = 1, j = 1):\n",
        "    \"\"\"\n",
        "    Create filter, create url, download image from url, convert tiff to jpg\n",
        "    \"\"\"\n",
        "    for latitude in range(i):\n",
        "        for longitude in range(j):\n",
        "            combined_filter = create_filter(coords)\n",
        "            id_url = create_url(combined_filter, latitude, longitude)\n",
        "            if id_url != None:\n",
        "                download_image(id_url)\n",
        "                tif_to_jpg('lat_' + str(latitude) + '_long_' + str(longitude) + '.jpeg')"
      ],
      "metadata": {
        "id": "13hK4f_86OC-"
      },
      "execution_count": 117,
      "outputs": []
    },
    {
      "cell_type": "code",
      "source": [
        "prepare_images(mazabuka_coords, start_time, end_time)"
      ],
      "metadata": {
        "id": "xs20uf7GA9Ee"
      },
      "execution_count": null,
      "outputs": []
    },
    {
      "cell_type": "markdown",
      "source": [
        "# Image Processing"
      ],
      "metadata": {
        "id": "l3T6a7YK_d1i"
      }
    },
    {
      "cell_type": "code",
      "source": [
        "skio.imshow('lat_0_long_0.jpeg')"
      ],
      "metadata": {
        "id": "vMSTSp2IJnsB"
      },
      "execution_count": null,
      "outputs": []
    },
    {
      "cell_type": "code",
      "source": [
        ""
      ],
      "metadata": {
        "id": "wjnXK8beLJKN"
      },
      "execution_count": null,
      "outputs": []
    }
  ]
}